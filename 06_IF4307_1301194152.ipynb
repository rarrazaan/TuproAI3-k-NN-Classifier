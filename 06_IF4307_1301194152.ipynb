{
 "cells": [
  {
   "cell_type": "code",
   "execution_count": 1,
   "metadata": {
    "colab": {
     "base_uri": "https://localhost:8080/",
     "height": 313
    },
    "id": "BdDKfleYCWWA",
    "outputId": "cbee087c-2919-47eb-c605-a4c6dbf3dd34"
   },
   "outputs": [],
   "source": [
    "import pandas as pd"
   ]
  },
  {
   "cell_type": "code",
   "execution_count": 2,
   "metadata": {
    "id": "CDlZuzsOD1pM"
   },
   "outputs": [],
   "source": [
    "df = pd.read_excel('https://rarrazaan.github.io/mobil.xls')"
   ]
  },
  {
   "cell_type": "code",
   "execution_count": 3,
   "metadata": {
    "colab": {
     "base_uri": "https://localhost:8080/",
     "height": 130
    },
    "id": "FPw_jV9lP9au",
    "outputId": "d6843d09-b802-41e8-df64-0e7fce75f9db"
   },
   "outputs": [
    {
     "name": "stdout",
     "output_type": "stream",
     "text": [
      "Input(ukuran, kenyamanan, irit, kecepatan):\n"
     ]
    },
    {
     "name": "stdin",
     "output_type": "stream",
     "text": [
      " 4 5 6 7\n",
      "Harga:  8\n"
     ]
    },
    {
     "data": {
      "text/html": [
       "<div>\n",
       "<style scoped>\n",
       "    .dataframe tbody tr th:only-of-type {\n",
       "        vertical-align: middle;\n",
       "    }\n",
       "\n",
       "    .dataframe tbody tr th {\n",
       "        vertical-align: top;\n",
       "    }\n",
       "\n",
       "    .dataframe thead th {\n",
       "        text-align: right;\n",
       "    }\n",
       "</style>\n",
       "<table border=\"1\" class=\"dataframe\">\n",
       "  <thead>\n",
       "    <tr style=\"text-align: right;\">\n",
       "      <th></th>\n",
       "      <th>Ukuran</th>\n",
       "      <th>Kenyamanan</th>\n",
       "      <th>Irit</th>\n",
       "      <th>Kecepatan</th>\n",
       "      <th>Harga (Ratus Juta)</th>\n",
       "    </tr>\n",
       "  </thead>\n",
       "  <tbody>\n",
       "    <tr>\n",
       "      <th>0</th>\n",
       "      <td>4</td>\n",
       "      <td>5</td>\n",
       "      <td>6</td>\n",
       "      <td>7</td>\n",
       "      <td>8.0</td>\n",
       "    </tr>\n",
       "  </tbody>\n",
       "</table>\n",
       "</div>"
      ],
      "text/plain": [
       "   Ukuran  Kenyamanan  Irit  Kecepatan  Harga (Ratus Juta)\n",
       "0       4           5     6          7                 8.0"
      ]
     },
     "execution_count": 3,
     "metadata": {},
     "output_type": "execute_result"
    }
   ],
   "source": [
    "print(\"Input(ukuran, kenyamanan, irit, kecepatan):\")\n",
    "si, co, ec, sp = map(int, input().split())\n",
    "pr = float(input(\"Harga: \"))\n",
    "data = {'Ukuran': [si], 'Kenyamanan': [co], 'Irit' : [ec], 'Kecepatan' : [sp], 'Harga (Ratus Juta)' : [pr]}\n",
    "inp = pd.DataFrame(data)\n",
    "inp.head()"
   ]
  },
  {
   "cell_type": "code",
   "execution_count": 4,
   "metadata": {
    "id": "DfLb1d3IEd-P"
   },
   "outputs": [],
   "source": [
    "# Euclidean distance \n",
    "def distance(data1, data2):\n",
    "    size1 = data1.get('Ukuran')\n",
    "    comfort1 = data1.get('Kenyamanan')\n",
    "    eco1 = data1.get('Irit')\n",
    "    speed1 = data1.get('Kecepatan')\n",
    "    price1 = data1.get('Harga (Ratus Juta)')\n",
    "\n",
    "    size2 = data2.get('Ukuran')\n",
    "    comfort2 = data2.get('Kenyamanan')\n",
    "    eco2 = data2.get('Irit')\n",
    "    speed2 = data2.get('Kecepatan')\n",
    "    price2 = data2.get('Harga (Ratus Juta)')\n",
    "    \n",
    "    jarak = ((size1 - size2)**2 + (comfort1 - comfort2)**2 + (eco1 - eco2)**2 + (speed1 - speed2)**2 + (price1 - price2)**2)**0.5\n",
    "\n",
    "    return jarak\n",
    "\n",
    "def kNN(k):\n",
    "    ans = []\n",
    "    har = []\n",
    "    for i in range(len(inp)):\n",
    "        list_jarak = []\n",
    "        for j in range(len(df)):\n",
    "            pair = (distance(inp.iloc[i], df.iloc[j]), j)\n",
    "            list_jarak.append(pair)\n",
    "            \n",
    "        list_jarak.sort()\n",
    "        #print(list_jarak)\n",
    "    \n",
    "    for j in range(k):\n",
    "        neighbour_index = list_jarak[j][1]\n",
    "        ans.append(df.iloc[neighbour_index]['Nama Mobil'])\n",
    "        har.append(df.iloc[neighbour_index]['Harga (Ratus Juta)'])\n",
    "    return ans, har\n",
    "\n",
    "\n",
    "euc, euchar = kNN(3)"
   ]
  },
  {
   "cell_type": "code",
   "execution_count": 5,
   "metadata": {
    "id": "j2rqZVKeP9ax"
   },
   "outputs": [],
   "source": [
    "receu = {'Nama Mobil' : [i for i in euc], 'Harga' : [str(int(round(j*100))) +' Juta' for j in euchar]}\n",
    "euclidean  = pd.DataFrame(receu)"
   ]
  },
  {
   "cell_type": "code",
   "execution_count": 6,
   "metadata": {
    "id": "cMqZZqnpP9ay"
   },
   "outputs": [],
   "source": [
    "#Manhattan distance\n",
    "def distance(data1, data2):\n",
    "    size1 = data1.get('Ukuran')\n",
    "    comfort1 = data1.get('Kenyamanan')\n",
    "    eco1 = data1.get('Irit')\n",
    "    speed1 = data1.get('Kecepatan')\n",
    "    price1 = data1.get('Harga (Ratus Juta)')\n",
    "\n",
    "    size2 = data2.get('Ukuran')\n",
    "    comfort2 = data2.get('Kenyamanan')\n",
    "    eco2 = data2.get('Irit')\n",
    "    speed2 = data2.get('Kecepatan')\n",
    "    price2 = data2.get('Harga (Ratus Juta)')    \n",
    "    jarak = (abs(size1 - size2) + abs(comfort1 - comfort2) + abs(eco1 - eco2) + abs(speed1 - speed2) + abs(price1 - price2))\n",
    "\n",
    "    return jarak\n",
    "\n",
    "def kNN(k):\n",
    "    ans = []\n",
    "    har = []\n",
    "    for i in range(len(inp)):\n",
    "        list_jarak = []\n",
    "        for j in range(len(df)):\n",
    "            pair = (distance(inp.iloc[i], df.iloc[j]), j)\n",
    "            list_jarak.append(pair) \n",
    "            \n",
    "        list_jarak.sort()\n",
    "        #print(list_jarak)\n",
    "    \n",
    "    for j in range(k):\n",
    "        neighbour_index = list_jarak[j][1]\n",
    "        ans.append(df.iloc[neighbour_index]['Nama Mobil'])\n",
    "        har.append(df.iloc[neighbour_index]['Harga (Ratus Juta)'])\n",
    "    return ans, har\n",
    "\n",
    "man, manhar = kNN(3)"
   ]
  },
  {
   "cell_type": "code",
   "execution_count": 7,
   "metadata": {
    "id": "a41_-pXHP9az"
   },
   "outputs": [],
   "source": [
    "recman = {'Nama Mobil' : [i for i in man], 'Harga' : [str(int(round(j*100))) +' Juta' for j in manhar]}\n",
    "manhattan  = pd.DataFrame(recman)"
   ]
  },
  {
   "cell_type": "code",
   "execution_count": 8,
   "metadata": {
    "id": "J5bE8BbSP9a0"
   },
   "outputs": [],
   "source": [
    "#Minkowski distance\n",
    "def distance(data1, data2):\n",
    "    size1 = data1.get('Ukuran')\n",
    "    comfort1 = data1.get('Kenyamanan')\n",
    "    eco1 = data1.get('Irit')\n",
    "    speed1 = data1.get('Kecepatan')\n",
    "    price1 = data1.get('Harga (Ratus Juta)')\n",
    "\n",
    "    size2 = data2.get('Ukuran')\n",
    "    comfort2 = data2.get('Kenyamanan')\n",
    "    eco2 = data2.get('Irit')\n",
    "    speed2 = data2.get('Kecepatan')\n",
    "    price2 = data2.get('Harga (Ratus Juta)')    \n",
    "    p = 1.5\n",
    "    jarakeu = (abs(size1 - size2)**p + abs(comfort1 - comfort2)**p + abs(eco1 - eco2)**p + abs(speed1 - speed2)**p + abs(price1 - price2)**p)**1/p\n",
    "\n",
    "    return jarakeu\n",
    "\n",
    "def kNN(k):\n",
    "    ans = []\n",
    "    har = []\n",
    "    for i in range(len(inp)):\n",
    "        list_jarak = []\n",
    "        for j in range(len(df)):\n",
    "            pair = (distance(inp.iloc[i], df.iloc[j]), j)\n",
    "            list_jarak.append(pair)\n",
    "            \n",
    "        list_jarak.sort()\n",
    "        #print(list_jarak)\n",
    "    \n",
    "    for j in range(k):\n",
    "        neighbour_index = list_jarak[j][1]\n",
    "        ans.append(df.iloc[neighbour_index]['Nama Mobil'])\n",
    "        har.append(df.iloc[neighbour_index]['Harga (Ratus Juta)'])\n",
    "    return ans, har\n",
    "\n",
    "mink, minkhar = kNN(3)"
   ]
  },
  {
   "cell_type": "code",
   "execution_count": 9,
   "metadata": {
    "id": "Xgq3nv43P9a1"
   },
   "outputs": [],
   "source": [
    "recmin = {'Nama Mobil' : [i for i in mink], 'Harga' : [str(int(round(j*100))) +' Juta' for j in minkhar]}\n",
    "minkowski  = pd.DataFrame(recmin)"
   ]
  },
  {
   "cell_type": "code",
   "execution_count": 10,
   "metadata": {
    "id": "DYlaX9-NP9a1"
   },
   "outputs": [],
   "source": [
    "#Supremum distance\n",
    "def distance(data1, data2):\n",
    "    size1 = data1.get('Ukuran')\n",
    "    comfort1 = data1.get('Kenyamanan')\n",
    "    eco1 = data1.get('Irit')\n",
    "    speed1 = data1.get('Kecepatan')\n",
    "    price1 = data1.get('Harga (Ratus Juta)')\n",
    "\n",
    "    size2 = data2.get('Ukuran')\n",
    "    comfort2 = data2.get('Kenyamanan')\n",
    "    eco2 = data2.get('Irit')\n",
    "    speed2 = data2.get('Kecepatan')\n",
    "    price2 = data2.get('Harga (Ratus Juta)')    \n",
    "    jarakeu = max(abs(size1 - size2), abs(comfort1 - comfort2), abs(eco1 - eco2), abs(speed1 - speed2), abs(price1 - price2))\n",
    "\n",
    "    return jarakeu\n",
    "\n",
    "def kNN(k):\n",
    "    ans = []\n",
    "    har = []\n",
    "    for i in range(len(inp)):\n",
    "        list_jarak = []\n",
    "        for j in range(len(df)):\n",
    "            pair = (distance(inp.iloc[i], df.iloc[j]), j)\n",
    "            list_jarak.append(pair)\n",
    "            \n",
    "        list_jarak.sort()\n",
    "        #print(list_jarak)\n",
    "    \n",
    "    for j in range(k):\n",
    "        neighbour_index = list_jarak[j][1]\n",
    "        ans.append(df.iloc[neighbour_index]['Nama Mobil'])\n",
    "        har.append(df.iloc[neighbour_index]['Harga (Ratus Juta)'])\n",
    "    return ans, har\n",
    "\n",
    "sup, suphar = kNN(3)"
   ]
  },
  {
   "cell_type": "code",
   "execution_count": 11,
   "metadata": {
    "id": "CDsg9NYMP9a2"
   },
   "outputs": [],
   "source": [
    "recsup = {'Nama Mobil' : [i for i in sup], 'Harga' : [str(int(round(j*100))) +' Juta' for j in suphar]}\n",
    "supremum  = pd.DataFrame(recsup)"
   ]
  },
  {
   "cell_type": "code",
   "execution_count": 12,
   "metadata": {
    "colab": {
     "base_uri": "https://localhost:8080/",
     "height": 481
    },
    "id": "i5GJnWBQP9a3",
    "outputId": "8f7be217-81e7-49ef-e578-1b76b997f466"
   },
   "outputs": [],
   "source": [
    "writer = pd.ExcelWriter('rekomendasi.xls', engine='xlsxwriter')\n",
    "euclidean.to_excel(writer, index=False, sheet_name='Euclidean')\n",
    "manhattan.to_excel(writer, index=False, sheet_name='Manhattan')\n",
    "minkowski.to_excel(writer, index=False, sheet_name='Minkowski')\n",
    "supremum.to_excel(writer, index=False, sheet_name='Supremum')\n",
    "writer.save()"
   ]
  },
  {
   "cell_type": "code",
   "execution_count": null,
   "metadata": {
    "id": "ReOWC47sP9a3"
   },
   "outputs": [],
   "source": []
  }
 ],
 "metadata": {
  "colab": {
   "collapsed_sections": [],
   "name": "KNN.ipynb",
   "provenance": []
  },
  "kernelspec": {
   "display_name": "Python 3",
   "language": "python",
   "name": "python3"
  },
  "language_info": {
   "codemirror_mode": {
    "name": "ipython",
    "version": 3
   },
   "file_extension": ".py",
   "mimetype": "text/x-python",
   "name": "python",
   "nbconvert_exporter": "python",
   "pygments_lexer": "ipython3",
   "version": "3.7.3"
  }
 },
 "nbformat": 4,
 "nbformat_minor": 4
}
